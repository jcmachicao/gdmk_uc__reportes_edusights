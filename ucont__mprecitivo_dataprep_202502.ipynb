{
  "cells": [
    {
      "cell_type": "markdown",
      "metadata": {
        "id": "view-in-github",
        "colab_type": "text"
      },
      "source": [
        "<a href=\"https://colab.research.google.com/github/jcmachicao/gdmk_uc__reportes_edusights/blob/main/ucont__mprecitivo_dataprep_202502.ipynb\" target=\"_parent\"><img src=\"https://colab.research.google.com/assets/colab-badge.svg\" alt=\"Open In Colab\"/></a>"
      ]
    },
    {
      "cell_type": "markdown",
      "metadata": {
        "id": "bAi6hmGNzcAC"
      },
      "source": [
        "# Entrenamiento de Red Neuronal Clasificación Binaria PyTorch"
      ]
    },
    {
      "cell_type": "markdown",
      "metadata": {
        "id": "hWpQ6t7bbRtS"
      },
      "source": [
        "## Preparación"
      ]
    },
    {
      "cell_type": "code",
      "execution_count": null,
      "metadata": {
        "id": "bE2k8nFzusJY"
      },
      "outputs": [],
      "source": [
        "import torch\n",
        "import torch.nn as nn\n",
        "import torch.optim as optim\n",
        "from torch.utils.data import DataLoader, TensorDataset\n",
        "from sklearn.preprocessing import StandardScaler, MinMaxScaler\n",
        "from sklearn.model_selection import train_test_split\n",
        "import pandas as pd\n",
        "import numpy as np\n",
        "from torchvision import datasets, transforms\n",
        "import os"
      ]
    },
    {
      "cell_type": "code",
      "execution_count": null,
      "metadata": {
        "id": "BsCV3GMAxm-E",
        "colab": {
          "base_uri": "https://localhost:8080/"
        },
        "outputId": "5fd414af-907e-4705-9a4c-43bbb019b339"
      },
      "outputs": [
        {
          "output_type": "execute_result",
          "data": {
            "text/plain": [
              "['df_Ingresantes_uvir_2220al2410_0107.pkl',\n",
              " 'df_Ingresantes_uvir_2220al2410_abandono_mas_deserción.pkl',\n",
              " 'df_Ingresantes_uvir_2220al2410_deserción.pkl',\n",
              " 'Estudiantes_202420_al1107.xlsx',\n",
              " 'X_train.pt',\n",
              " 'y_train.pt',\n",
              " 'X_test.pt',\n",
              " 'y_test.pt']"
            ]
          },
          "metadata": {},
          "execution_count": 14
        }
      ],
      "source": [
        "data_path = 'drive/My Drive/00 Aplicativos/data_aplicativos/archivos/'\n",
        "os.listdir(data_path)"
      ]
    },
    {
      "cell_type": "markdown",
      "metadata": {
        "id": "zeEo9Hdc9HHQ"
      },
      "source": [
        "### Carga de datos originales"
      ]
    },
    {
      "cell_type": "code",
      "execution_count": null,
      "metadata": {
        "id": "ymtPBxO99amC",
        "colab": {
          "base_uri": "https://localhost:8080/"
        },
        "outputId": "e67e1d3e-6e88-474a-8ee4-6e3afd996fdc"
      },
      "outputs": [
        {
          "output_type": "execute_result",
          "data": {
            "text/plain": [
              "((8020, 27),\n",
              " Index(['Tiempo_espera', 'DNI', 'NOMBRE', 'TIPO_INGRESANTE',\n",
              "        'ESTADO_INGRESANTE', 'APROBO_RV', 'APROBO_RM', 'Puntaje_Admisión',\n",
              "        'Edad', 'Rango_Edad', 'Sexo', 'Dep_viv_act', 'Dis_viv_act', 'Migrante',\n",
              "        'Estado Civil', 'Dependientes', 'Vives_con', 'Tipo_de_cole',\n",
              "        'Max_Grado', 'Estudio_Madre', 'Estudio_Padre', 'Tipo_lugar_origen',\n",
              "        'Ocupación', 'Tipo_trabajo', 'Ingre_estudiante', 'Ingre_familia',\n",
              "        'Dispo_Internet'],\n",
              "       dtype='object'))"
            ]
          },
          "metadata": {},
          "execution_count": 15
        }
      ],
      "source": [
        "#data_file = 'df_Ingresantes_uvir_2220al2410_0107.pkl'\n",
        "data_file = 'df_Ingresantes_uvir_2220al2410_deserción.pkl'\n",
        "df = pd.read_pickle(data_path+data_file).dropna()\n",
        "df.shape, df.columns"
      ]
    },
    {
      "cell_type": "code",
      "execution_count": null,
      "metadata": {
        "colab": {
          "base_uri": "https://localhost:8080/",
          "height": 210
        },
        "id": "Xw89rc8CdkWE",
        "outputId": "3f8cecaf-9671-40af-a3a5-97fead6b0fa6"
      },
      "outputs": [
        {
          "output_type": "execute_result",
          "data": {
            "text/plain": [
              "ESTADO_INGRESANTE\n",
              "Activo           4302\n",
              "Abandono         2763\n",
              "Abandono_real     955\n",
              "Name: count, dtype: int64"
            ],
            "text/html": [
              "<div>\n",
              "<style scoped>\n",
              "    .dataframe tbody tr th:only-of-type {\n",
              "        vertical-align: middle;\n",
              "    }\n",
              "\n",
              "    .dataframe tbody tr th {\n",
              "        vertical-align: top;\n",
              "    }\n",
              "\n",
              "    .dataframe thead th {\n",
              "        text-align: right;\n",
              "    }\n",
              "</style>\n",
              "<table border=\"1\" class=\"dataframe\">\n",
              "  <thead>\n",
              "    <tr style=\"text-align: right;\">\n",
              "      <th></th>\n",
              "      <th>count</th>\n",
              "    </tr>\n",
              "    <tr>\n",
              "      <th>ESTADO_INGRESANTE</th>\n",
              "      <th></th>\n",
              "    </tr>\n",
              "  </thead>\n",
              "  <tbody>\n",
              "    <tr>\n",
              "      <th>Activo</th>\n",
              "      <td>4302</td>\n",
              "    </tr>\n",
              "    <tr>\n",
              "      <th>Abandono</th>\n",
              "      <td>2763</td>\n",
              "    </tr>\n",
              "    <tr>\n",
              "      <th>Abandono_real</th>\n",
              "      <td>955</td>\n",
              "    </tr>\n",
              "  </tbody>\n",
              "</table>\n",
              "</div><br><label><b>dtype:</b> int64</label>"
            ]
          },
          "metadata": {},
          "execution_count": 16
        }
      ],
      "source": [
        "df.ESTADO_INGRESANTE.value_counts()"
      ]
    },
    {
      "cell_type": "code",
      "execution_count": null,
      "metadata": {
        "colab": {
          "base_uri": "https://localhost:8080/"
        },
        "id": "huSpS3nkqpGO",
        "outputId": "cb3a1cd4-1a67-4807-a092-9a960ff5dcde"
      },
      "outputs": [
        {
          "output_type": "execute_result",
          "data": {
            "text/plain": [
              "(8020, 27)"
            ]
          },
          "metadata": {},
          "execution_count": 17
        }
      ],
      "source": [
        "df.shape"
      ]
    },
    {
      "cell_type": "code",
      "execution_count": null,
      "metadata": {
        "id": "SbfCOXPpsIzh"
      },
      "outputs": [],
      "source": [
        "MAX_CAT = 40"
      ]
    },
    {
      "cell_type": "code",
      "execution_count": null,
      "metadata": {
        "id": "DTagJhMQhwN_"
      },
      "outputs": [],
      "source": [
        "def selec_categ(df, MAX_CAT):\n",
        "\n",
        "  df.index = df.DNI\n",
        "  df.drop(columns=['DNI'], inplace=True)\n",
        "  print(df.shape)\n",
        "  cat_list = []\n",
        "  num_list = []\n",
        "  for col in df.columns:\n",
        "    if df[col].dtype == 'object':\n",
        "      if len(df[col].unique()) < MAX_CAT:\n",
        "        #print(col, list(df[col].unique()))\n",
        "        cat_list.append(col)\n",
        "      else:\n",
        "        pass\n",
        "    else:\n",
        "      num_list.append(col)\n",
        "  df_maxcat = df[cat_list]\n",
        "  df_num = df[num_list]\n",
        "  return df_maxcat, df_num"
      ]
    },
    {
      "cell_type": "code",
      "execution_count": null,
      "metadata": {
        "colab": {
          "base_uri": "https://localhost:8080/"
        },
        "id": "wAQUx-KF_tlu",
        "outputId": "09be3d85-1cc3-4526-84f7-e703c6539e26"
      },
      "outputs": [
        {
          "output_type": "stream",
          "name": "stdout",
          "text": [
            "(8020, 26)\n"
          ]
        },
        {
          "output_type": "execute_result",
          "data": {
            "text/plain": [
              "((8020, 22), (8020, 2))"
            ]
          },
          "metadata": {},
          "execution_count": 20
        }
      ],
      "source": [
        "df_cat, df_num = selec_categ(df, MAX_CAT)\n",
        "df_cat.shape, df_num.shape"
      ]
    },
    {
      "cell_type": "code",
      "execution_count": null,
      "metadata": {
        "colab": {
          "base_uri": "https://localhost:8080/"
        },
        "id": "YtuhsX2K_0Ez",
        "outputId": "d2967940-1d66-4eb7-c365-cf92acf3f7ca"
      },
      "outputs": [
        {
          "output_type": "execute_result",
          "data": {
            "text/plain": [
              "((8020, 22), (8020, 2))"
            ]
          },
          "metadata": {},
          "execution_count": 21
        }
      ],
      "source": [
        "df_cat.shape, df_num.shape"
      ]
    },
    {
      "cell_type": "code",
      "execution_count": null,
      "metadata": {
        "id": "InkpwV8WAG7h"
      },
      "outputs": [],
      "source": [
        "def genera_tensor(df_cat, df_num):\n",
        "\n",
        "  df_b = pd.get_dummies(df_cat)\n",
        "  df_b = df_b.set_index(df_cat.index)\n",
        "  print(df_b.index[0:5])\n",
        "  scaler = MinMaxScaler()\n",
        "  X_sc = scaler.fit_transform(df_b)\n",
        "  df_sc = pd.DataFrame(X_sc)\n",
        "  df_sc.columns = df_b.columns\n",
        "  df_n = df_num\n",
        "  df_n = df_n.set_index(df_b.index)\n",
        "  print(df_n.index[0:5])\n",
        "  df_sc.index = df_b.index\n",
        "  print((df_sc.index == df_n.index).sum()==len(df_b))\n",
        "  df_r = pd.concat([df_sc, df_n], axis=1)\n",
        "  df_r.index = df_b.index\n",
        "  return df_r"
      ]
    },
    {
      "cell_type": "code",
      "execution_count": null,
      "metadata": {
        "colab": {
          "base_uri": "https://localhost:8080/"
        },
        "id": "Lc_Pne4JAdZb",
        "outputId": "e3b110d8-0d7a-4b04-934e-f2ca0030edc9"
      },
      "outputs": [
        {
          "output_type": "stream",
          "name": "stdout",
          "text": [
            "Index(['60971965', '81635783', '81704629', 'tm898474', '76508439'], dtype='object', name='DNI')\n",
            "Index(['60971965', '81635783', '81704629', 'tm898474', '76508439'], dtype='object', name='DNI')\n",
            "True\n"
          ]
        },
        {
          "output_type": "execute_result",
          "data": {
            "text/plain": [
              "(8020, 152)"
            ]
          },
          "metadata": {},
          "execution_count": 23
        }
      ],
      "source": [
        "df_rr = genera_tensor(df_cat, df_num)\n",
        "df_rr.shape"
      ]
    },
    {
      "cell_type": "code",
      "execution_count": null,
      "metadata": {
        "colab": {
          "base_uri": "https://localhost:8080/"
        },
        "id": "0DFbIxrE8OEz",
        "outputId": "6cf316bd-6c71-4037-eacc-7251b29f1a5d"
      },
      "outputs": [
        {
          "output_type": "execute_result",
          "data": {
            "text/plain": [
              "Index(['Tiempo_espera_Entre 31 a 60 días', 'Tiempo_espera_Entre 61 a 90 días',\n",
              "       'Tiempo_espera_Menos de 30 días', 'Tiempo_espera_Más de 91 días',\n",
              "       'TIPO_INGRESANTE_CONVALIDANTE', 'TIPO_INGRESANTE_MOVILIDAD',\n",
              "       'TIPO_INGRESANTE_ORDINARIO', 'ESTADO_INGRESANTE_Activo', 'APROBO_RV_NO',\n",
              "       'APROBO_RV_SI', 'APROBO_RM_NO', 'APROBO_RM_SI',\n",
              "       'Rango_Edad_De  41 a 50', 'Rango_Edad_De 15 a 21',\n",
              "       'Rango_Edad_De 22 a 25', 'Rango_Edad_De 26 a 31',\n",
              "       'Rango_Edad_De 32 a 40', 'Rango_Edad_De 51 a 60',\n",
              "       'Rango_Edad_De 61 a 80', 'Sexo_Femenino', 'Sexo_Masculino',\n",
              "       'Dep_viv_act_AMAZONAS', 'Dep_viv_act_ANCASH', 'Dep_viv_act_APURIMAC',\n",
              "       'Dep_viv_act_AREQUIPA', 'Dep_viv_act_AYACUCHO', 'Dep_viv_act_Alemania',\n",
              "       'Dep_viv_act_Argentina', 'Dep_viv_act_Brasil', 'Dep_viv_act_CAJAMARCA'],\n",
              "      dtype='object')"
            ]
          },
          "metadata": {},
          "execution_count": 24
        }
      ],
      "source": [
        "df_rr.drop(columns=['ESTADO_INGRESANTE_Abandono', 'ESTADO_INGRESANTE_Abandono_real'], inplace=True)\n",
        "df_rr.columns[0:30]"
      ]
    },
    {
      "cell_type": "code",
      "execution_count": null,
      "metadata": {
        "colab": {
          "base_uri": "https://localhost:8080/"
        },
        "id": "b3lRv0YUBIHK",
        "outputId": "99112e93-54f5-4468-b816-3b82336ac184"
      },
      "outputs": [
        {
          "output_type": "execute_result",
          "data": {
            "text/plain": [
              "(8020, 150)"
            ]
          },
          "metadata": {},
          "execution_count": 25
        }
      ],
      "source": [
        "df_rr.shape"
      ]
    },
    {
      "cell_type": "code",
      "source": [
        "df_rr.to_pickle(data_path + 'df_rr_S2.pkl')"
      ],
      "metadata": {
        "id": "JqidaxykIdu7"
      },
      "execution_count": null,
      "outputs": []
    },
    {
      "cell_type": "code",
      "execution_count": null,
      "metadata": {
        "colab": {
          "base_uri": "https://localhost:8080/"
        },
        "id": "-N1Gh9n66J_c",
        "outputId": "b11591ed-b6ac-469c-b4a9-ee80afc2bd68"
      },
      "outputs": [
        {
          "output_type": "execute_result",
          "data": {
            "text/plain": [
              "(149, 1)"
            ]
          },
          "metadata": {},
          "execution_count": 26
        }
      ],
      "source": [
        "lista_categorias = list(df_rr.columns)\n",
        "lista_categorias.remove('ESTADO_INGRESANTE_Activo')\n",
        "list_df = pd.DataFrame(lista_categorias)\n",
        "list_df.to_excel(data_path + 'lista_categorias_S2_CON_69.xlsx')\n",
        "list_df.shape"
      ]
    },
    {
      "cell_type": "code",
      "execution_count": null,
      "metadata": {
        "colab": {
          "base_uri": "https://localhost:8080/",
          "height": 178
        },
        "id": "hgug6fRYqNmk",
        "outputId": "6c50a048-557d-4745-d66d-1e15bf85c692"
      },
      "outputs": [
        {
          "output_type": "execute_result",
          "data": {
            "text/plain": [
              "ESTADO_INGRESANTE_Activo\n",
              "1.0    4302\n",
              "0.0    3718\n",
              "Name: count, dtype: int64"
            ],
            "text/html": [
              "<div>\n",
              "<style scoped>\n",
              "    .dataframe tbody tr th:only-of-type {\n",
              "        vertical-align: middle;\n",
              "    }\n",
              "\n",
              "    .dataframe tbody tr th {\n",
              "        vertical-align: top;\n",
              "    }\n",
              "\n",
              "    .dataframe thead th {\n",
              "        text-align: right;\n",
              "    }\n",
              "</style>\n",
              "<table border=\"1\" class=\"dataframe\">\n",
              "  <thead>\n",
              "    <tr style=\"text-align: right;\">\n",
              "      <th></th>\n",
              "      <th>count</th>\n",
              "    </tr>\n",
              "    <tr>\n",
              "      <th>ESTADO_INGRESANTE_Activo</th>\n",
              "      <th></th>\n",
              "    </tr>\n",
              "  </thead>\n",
              "  <tbody>\n",
              "    <tr>\n",
              "      <th>1.0</th>\n",
              "      <td>4302</td>\n",
              "    </tr>\n",
              "    <tr>\n",
              "      <th>0.0</th>\n",
              "      <td>3718</td>\n",
              "    </tr>\n",
              "  </tbody>\n",
              "</table>\n",
              "</div><br><label><b>dtype:</b> int64</label>"
            ]
          },
          "metadata": {},
          "execution_count": 27
        }
      ],
      "source": [
        "df_rr['ESTADO_INGRESANTE_Activo'].value_counts()"
      ]
    }
  ],
  "metadata": {
    "accelerator": "GPU",
    "colab": {
      "gpuType": "T4",
      "provenance": [],
      "mount_file_id": "1qjncfIPDfcQbXwql5XliZH6fztyRN39Y",
      "authorship_tag": "ABX9TyOJDyR+WW/Q3RV9kRovb78Q",
      "include_colab_link": true
    },
    "kernelspec": {
      "display_name": "Python 3",
      "name": "python3"
    },
    "language_info": {
      "name": "python"
    }
  },
  "nbformat": 4,
  "nbformat_minor": 0
}